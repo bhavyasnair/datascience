{
 "cells": [
  {
   "cell_type": "code",
   "execution_count": 14,
   "id": "622ae5f8-11c0-4e91-9884-9acecc74de59",
   "metadata": {},
   "outputs": [
    {
     "name": "stdout",
     "output_type": "stream",
     "text": [
      "Original numbers:\n",
      "[3 5 6]\n",
      "[4 5 8]\n",
      "comparison_greater\n",
      "[False False False]\n",
      "comparison-greater_equal\n",
      "[False  True False]\n",
      "comparison-less\n",
      "[ True False  True]\n",
      "comparison-less_equal\n",
      "[ True  True  True]\n"
     ]
    }
   ],
   "source": [
    "import numpy as np\n",
    "x=np.array([3,5,6])\n",
    "y=np.array([4,5,8])\n",
    "print(\"Original numbers:\")\n",
    "print(x)\n",
    "print(y)\n",
    "print(\"comparison_greater\")\n",
    "print(np.greater(x,y))\n",
    "print(\"comparison-greater_equal\")\n",
    "print(np.greater_equal(x,y))\n",
    "print(\"comparison-less\")\n",
    "print(np.less(x,y))\n",
    "print(\"comparison-less_equal\")\n",
    "print(np.less_equal(x,y))"
   ]
  },
  {
   "cell_type": "code",
   "execution_count": 2,
   "id": "c0b39321-edb1-4340-914f-1c67eb264d61",
   "metadata": {},
   "outputs": [
    {
     "name": "stdout",
     "output_type": "stream",
     "text": [
      "Array of all even integers from 30 to 70\n",
      "\n",
      "[30 32 34 36 38 40 42 44 46 48 50 52 54 56 58 60 62 64 66 68 70]\n"
     ]
    }
   ],
   "source": [
    "import numpy as np\n",
    "array=np.arange(30,71,2,int)\n",
    "print(\"Array of all even integers from 30 to 70\\n\")\n",
    "print(array)"
   ]
  },
  {
   "cell_type": "code",
   "execution_count": 3,
   "id": "2d02e2e7-2811-4b0b-a5ce-d0b9dfecdbf9",
   "metadata": {},
   "outputs": [
    {
     "name": "stdout",
     "output_type": "stream",
     "text": [
      "3X3 identity matrix:\n",
      "\n",
      "[[1. 0. 0.]\n",
      " [0. 1. 0.]\n",
      " [0. 0. 1.]]\n"
     ]
    }
   ],
   "source": [
    "import numpy as np\n",
    "array=np.identity(3)\n",
    "print(\"3X3 identity matrix:\\n\")\n",
    "print(array)"
   ]
  },
  {
   "cell_type": "code",
   "execution_count": 4,
   "id": "7d7d2469-acf8-49d4-997f-c10ac46f1895",
   "metadata": {},
   "outputs": [
    {
     "name": "stdout",
     "output_type": "stream",
     "text": [
      "sum of all numbers:\n",
      "\n",
      "21\n",
      "sum of column elements:\n",
      "\n",
      "[5 7 9]\n",
      "sum of row elements:\n",
      "[ 6 15]\n"
     ]
    }
   ],
   "source": [
    "import numpy as np\n",
    "array=np.array([[1,2,3],[4,5,6]])\n",
    "print(\"sum of all numbers:\\n\")\n",
    "print(np.sum(array))\n",
    "print(\"sum of column elements:\\n\")\n",
    "print(np.sum(array,axis=0))\n",
    "print(\"sum of row elements:\")\n",
    "print(np.sum(array,axis=1))"
   ]
  },
  {
   "cell_type": "code",
   "execution_count": 5,
   "id": "84d465ff-cd02-4e6f-b9b6-4f8160cbf8d2",
   "metadata": {},
   "outputs": [
    {
     "name": "stdout",
     "output_type": "stream",
     "text": [
      "Original vector:\n",
      "[ 0  1  2  3  4  5  6  7  8  9 10 11 12 13 14 15 16 17 18 19 20]\n",
      "After changing the sign of the numbers in the range from 9 to 15:\n",
      "[  0   1   2   3   4   5   6   7   8  -9 -10 -11 -12 -13 -14 -15  16  17\n",
      "  18  19  20]\n"
     ]
    }
   ],
   "source": [
    "import numpy as np\n",
    "array=np.arange(21)\n",
    "print(\"Original vector:\")\n",
    "print(array)\n",
    "print(\"After changing the sign of the numbers in the range from 9 to 15:\")\n",
    "array[(array >= 9) & (array <= 15)] *= -1\n",
    "print(array)"
   ]
  },
  {
   "cell_type": "code",
   "execution_count": 6,
   "id": "712f8b3f-1ece-4d2c-8c2d-3ee8a28991cb",
   "metadata": {},
   "outputs": [
    {
     "name": "stdout",
     "output_type": "stream",
     "text": [
      "5X5 zero matrix with elements on the main diagonal equal to 1,2,3,4,5\n",
      "[[1 0 0 0 0]\n",
      " [0 2 0 0 0]\n",
      " [0 0 3 0 0]\n",
      " [0 0 0 4 0]\n",
      " [0 0 0 0 5]]\n"
     ]
    }
   ],
   "source": [
    "import numpy as np\n",
    "array=np.diag([1,2,3,4,5])\n",
    "print(\"5X5 zero matrix with elements on the main diagonal equal to 1,2,3,4,5\")\n",
    "print(array)"
   ]
  },
  {
   "cell_type": "code",
   "execution_count": 7,
   "id": "06828cef-343d-420e-94a4-e2198c27da26",
   "metadata": {
    "jupyter": {
     "source_hidden": true
    },
    "tags": []
   },
   "outputs": [
    {
     "name": "stdout",
     "output_type": "stream",
     "text": [
      "Array:\n",
      " [ 2  4  6  8 10]\n",
      "Content in file.txt: [ 2  4  6  8 10]\n"
     ]
    }
   ],
   "source": [
    "import numpy as np\n",
    "array = np.array([2,4,6,8,10])\n",
    "print('Array:\\n', array)\n",
    "file = open(\"file.txt\", \"w+\")\n",
    "c = str(array)\n",
    "file.write(c)\n",
    "file.close()\n",
    "file = open(\"file.txt\", \"r\")\n",
    "c = file.read()\n",
    "print(\"Content in file.txt:\", c)\n",
    "file.close()\n"
   ]
  },
  {
   "cell_type": "code",
   "execution_count": 8,
   "id": "51ae4115-5b86-4dfe-83e5-de9c0e7fa4aa",
   "metadata": {},
   "outputs": [
    {
     "name": "stdout",
     "output_type": "stream",
     "text": [
      "Array 1:\n",
      "[1 2 3 4]\n",
      "Array 2:\n",
      "[1 2 3 4]\n",
      "Array 1 and Array 2 are equal or not:\n",
      "True\n"
     ]
    }
   ],
   "source": [
    "import numpy as np\n",
    "x=np.array([1,2,3,4])\n",
    "y=np.array([1,2,3,4])\n",
    "print(\"Array 1:\")\n",
    "print(x)\n",
    "print(\"Array 2:\")\n",
    "print(y)\n",
    "print(\"Array 1 and Array 2 are equal or not:\")\n",
    "a=np.allclose(x,y)\n",
    "print(a)"
   ]
  },
  {
   "cell_type": "code",
   "execution_count": 9,
   "id": "e290f5a9-3dff-4127-91c3-fde39cd348f9",
   "metadata": {},
   "outputs": [
    {
     "name": "stdout",
     "output_type": "stream",
     "text": [
      "Original array:\n",
      "[[ 0  1  2  3]\n",
      " [ 4  5  6  7]\n",
      " [ 8  9 10 11]\n",
      " [12 13 14 15]]\n",
      "Array after swapping first and last rows:\n",
      "[[12 13 14 15]\n",
      " [ 4  5  6  7]\n",
      " [ 8  9 10 11]\n",
      " [ 0  1  2  3]]\n"
     ]
    }
   ],
   "source": [
    "import numpy as np\n",
    "array = np.arange(16, dtype='int').reshape(-1, 4)\n",
    "print(\"Original array:\")\n",
    "print(array)\n",
    "print(\"Array after swapping first and last rows:\")\n",
    "array[[0,-1],:]=array[[-1,0],:]\n",
    "print(array)\n"
   ]
  },
  {
   "cell_type": "code",
   "execution_count": 12,
   "id": "3f49e7eb-6cb3-4bed-87c0-b149331cc7b1",
   "metadata": {},
   "outputs": [
    {
     "name": "stdout",
     "output_type": "stream",
     "text": [
      "Array 1:\n",
      "[1 2 3 4]\n",
      "Array 2:\n",
      "[5 6 7 8]\n",
      "Resultant array after multiplication:\n",
      "[ 5 12 21 32]\n"
     ]
    }
   ],
   "source": [
    "import numpy as np\n",
    "array1=np.array([1,2,3,4])\n",
    "array2=np.array([5,6,7,8])\n",
    "print(\"Array 1:\")\n",
    "print(array1)\n",
    "print(\"Array 2:\")\n",
    "print(array2)\n",
    "print(\"Resultant array after multiplication:\")\n",
    "print(np.multiply(array1,array2))"
   ]
  }
 ],
 "metadata": {
  "kernelspec": {
   "display_name": "Python 3 (ipykernel)",
   "language": "python",
   "name": "python3"
  },
  "language_info": {
   "codemirror_mode": {
    "name": "ipython",
    "version": 3
   },
   "file_extension": ".py",
   "mimetype": "text/x-python",
   "name": "python",
   "nbconvert_exporter": "python",
   "pygments_lexer": "ipython3",
   "version": "3.10.4"
  }
 },
 "nbformat": 4,
 "nbformat_minor": 5
}
