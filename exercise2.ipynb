{
 "cells": [
  {
   "cell_type": "code",
   "execution_count": 10,
   "id": "628f72a6-f19c-40db-9c36-7cc5e2f25155",
   "metadata": {},
   "outputs": [
    {
     "name": "stdin",
     "output_type": "stream",
     "text": [
      "Enter the rows of first matix 2\n",
      "Enter the columns of first matrix 2\n"
     ]
    },
    {
     "name": "stdout",
     "output_type": "stream",
     "text": [
      "Enter the entries of first row seperated by row\n"
     ]
    },
    {
     "name": "stdin",
     "output_type": "stream",
     "text": [
      " 1 2 3 4\n",
      "Enter the rows of second matix 2\n",
      "Enter the columns of second matrix 2\n"
     ]
    },
    {
     "name": "stdout",
     "output_type": "stream",
     "text": [
      "Enter the entries of first row seperated by row\n"
     ]
    },
    {
     "name": "stdin",
     "output_type": "stream",
     "text": [
      " 1 2 3 4\n"
     ]
    },
    {
     "name": "stdout",
     "output_type": "stream",
     "text": [
      "First matrix\n",
      "[[1 2]\n",
      " [3 4]]\n",
      "Second matrix\n",
      "[[1 2]\n",
      " [3 4]]\n",
      "Dot product of first and second matrices\n",
      "[[ 7 10]\n",
      " [15 22]]\n",
      "Transpose of first matrix\n",
      "[[1 3]\n",
      " [2 4]]\n",
      "Trace of first matrix\n",
      "5\n",
      "Rank of first matrix\n",
      "2\n",
      "Determinant of first matrix\n",
      "-2.0000000000000004\n",
      "Inverse of first matrix\n",
      "[[-2.  1.]\n",
      " [ 1. -0.]]\n",
      "Eigen value of first matrix\n",
      "(array([-0.37228132,  5.37228132]), array([[-0.82456484, -0.41597356],\n",
      "       [ 0.56576746, -0.90937671]]))\n"
     ]
    }
   ],
   "source": [
    "import numpy as np\n",
    "import matplotlib as mp\n",
    "r1=int(input(\"Enter the rows of first matix\"))\n",
    "c1=int(input(\"Enter the columns of first matrix\"))\n",
    "print(\"Enter the entries of first row seperated by row\")\n",
    "e1=list(map(int,input().split()))\n",
    "m1=np.array(e1).reshape(r1,c1)\n",
    "r2=int(input(\"Enter the rows of second matix\"))\n",
    "c2=int(input(\"Enter the columns of second matrix\"))\n",
    "print(\"Enter the entries of first row seperated by row\")\n",
    "e2=list(map(int,input().split()))\n",
    "m2=np.array(e2).reshape(r2,c2)\n",
    "print(\"First matrix\")\n",
    "print(m1)\n",
    "print(\"Second matrix\")\n",
    "print(m2)\n",
    "print(\"Dot product of first and second matrices\")\n",
    "d=np.dot(m1,m2)\n",
    "print(d)\n",
    "print(\"Transpose of first matrix\")\n",
    "t=np.transpose(m1)\n",
    "print(t)\n",
    "print(\"Trace of first matrix\")\n",
    "t1=np.trace(m1)\n",
    "print(t1)\n",
    "print(\"Rank of first matrix\")\n",
    "r=np.linalg.matrix_rank(m1)\n",
    "print(r)\n",
    "print(\"Determinant of first matrix\")\n",
    "d1=np.linalg.det(m1)\n",
    "print(d1)\n",
    "print(\"Inverse of first matrix\")\n",
    "i=np.linalg.inv(m1)\n",
    "print(np.round(i)) \n",
    "print(\"Eigen value of first matrix\")\n",
    "e3=np.linalg.eig(m1)\n",
    "print(e3)"
   ]
  },
  {
   "cell_type": "code",
   "execution_count": null,
   "id": "3358c43e-4f29-44c6-a192-74a26f923ffa",
   "metadata": {},
   "outputs": [],
   "source": []
  }
 ],
 "metadata": {
  "kernelspec": {
   "display_name": "Python 3 (ipykernel)",
   "language": "python",
   "name": "python3"
  },
  "language_info": {
   "codemirror_mode": {
    "name": "ipython",
    "version": 3
   },
   "file_extension": ".py",
   "mimetype": "text/x-python",
   "name": "python",
   "nbconvert_exporter": "python",
   "pygments_lexer": "ipython3",
   "version": "3.10.4"
  }
 },
 "nbformat": 4,
 "nbformat_minor": 5
}
