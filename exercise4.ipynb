{
 "cells": [
  {
   "cell_type": "code",
   "execution_count": 1,
   "id": "aedb38a9-efb8-4337-af60-04789050c8bc",
   "metadata": {},
   "outputs": [
    {
     "name": "stdout",
     "output_type": "stream",
     "text": [
      "['abc', 'def', 'ghi']\n"
     ]
    }
   ],
   "source": [
    "import pandas as pd\n",
    "names=['abc','def','ghi']\n",
    "x=pd.Series(names)\n",
    "print(names)"
   ]
  },
  {
   "cell_type": "code",
   "execution_count": 2,
   "id": "70f38ba8-be6f-4d6e-bb06-f8464d0b780e",
   "metadata": {},
   "outputs": [
    {
     "name": "stdout",
     "output_type": "stream",
     "text": [
      "2021-05-01\n",
      "2021-05-02\n",
      "2021-05-03\n",
      "2021-05-04\n",
      "2021-05-05\n",
      "2021-05-06\n",
      "2021-05-07\n",
      "2021-05-08\n",
      "2021-05-09\n",
      "2021-05-10\n",
      "2021-05-11\n",
      "2021-05-12\n"
     ]
    }
   ],
   "source": [
    "import pandas as pd\n",
    "sr = pd.Series(pd.date_range('2021-05-01','2021-05-12',freq = 'D'))\n",
    "print(sr.to_string(index=False))"
   ]
  },
  {
   "cell_type": "code",
   "execution_count": 6,
   "id": "d8d04fc6-8221-4de9-b64f-03863f127cdd",
   "metadata": {},
   "outputs": [
    {
     "name": "stdout",
     "output_type": "stream",
     "text": [
      "       Name  Age\n",
      "0   fathima   22\n",
      "1  Aryasree   21\n",
      "2    Bhavya   22\n"
     ]
    }
   ],
   "source": [
    "import pandas as pd\n",
    "d={\n",
    "    'Name': ['fathima','Aryasree','Bhavya'],\n",
    "    'Age' : [22,21,22]\n",
    "}\n",
    "df=pd.DataFrame(d)\n",
    "print(df)"
   ]
  },
  {
   "cell_type": "code",
   "execution_count": 7,
   "id": "8a654fff-8397-4795-ae78-c0fb105b03bd",
   "metadata": {},
   "outputs": [
    {
     "name": "stdout",
     "output_type": "stream",
     "text": [
      "   0  1\n",
      "0  1  2\n",
      "1  3  4\n",
      "2  5  6\n"
     ]
    }
   ],
   "source": [
    "import pandas as pd\n",
    "d=[[1,2],[3,4],[5,6]]\n",
    "df=pd.DataFrame(d)\n",
    "print(df)"
   ]
  },
  {
   "cell_type": "code",
   "execution_count": 8,
   "id": "48b35c01-d0ff-45cc-8f7d-aeeddbaac3bc",
   "metadata": {},
   "outputs": [
    {
     "name": "stdout",
     "output_type": "stream",
     "text": [
      "   Name\n",
      "0   'a'\n",
      "1   'b'\n",
      "2   'c'\n",
      "3  Mark\n",
      "4    21\n",
      "5    23\n",
      "6    22\n"
     ]
    }
   ],
   "source": [
    "import pandas as pd\n",
    "df = pd.read_csv('det.csv')\n",
    "print(df.to_string()) "
   ]
  },
  {
   "cell_type": "code",
   "execution_count": 12,
   "id": "4c1c613b-00c0-45cd-a522-cab96bdc5f37",
   "metadata": {},
   "outputs": [
    {
     "name": "stdout",
     "output_type": "stream",
     "text": [
      "  Name  Age  Rank\n",
      "0    e    1     0\n",
      "1    a    2     1\n",
      "2    a    1     2\n",
      "3    b    3     3\n",
      "4    c    3     4\n",
      "5    d    4     5\n",
      "SORTED DATAFRAME\n"
     ]
    }
   ],
   "source": [
    "import pandas as pd\n",
    "df = pd.DataFrame({'Name': ['e','a','a','b','c','d'],\n",
    "                   'Age': [1,2,1,3,3,4],\n",
    "                   'Rank': [0,1,2,3,4,5]})\n",
    "print(df.to_string())\n",
    "print('SORTED DATAFRAME')\n",
    "df = df.sort_values(by=['Name','Age'], ascending=[True,True])"
   ]
  },
  {
   "cell_type": "code",
   "execution_count": 13,
   "id": "faf6d007-39cb-4cf5-8c9b-5f47dbbcaf98",
   "metadata": {},
   "outputs": [
    {
     "name": "stdout",
     "output_type": "stream",
     "text": [
      "   Name  Age  Rank\n",
      "b1    e    1     0\n",
      "e1    a    2     1\n",
      "f1    a    1     2\n",
      "d1    b    3     3\n",
      "a1    c    3     4\n",
      "c1    d    4     5\n",
      "  Name  Age  Rank\n",
      "0    e    1     0\n",
      "1    a    2     1\n",
      "2    a    1     2\n",
      "3    b    3     3\n",
      "4    c    3     4\n",
      "5    d    4     5\n"
     ]
    }
   ],
   "source": [
    "import pandas as pd\n",
    "data = {'Name': ['e','a','a','b','c','d'],'Age': [1,2,1,3,3,4],'Rank': [0,1,2,3,4,5]}\n",
    "index = {'a1', 'b1', 'c1', 'd1', 'e1','f1'}\n",
    "df = pd.DataFrame(data,index)\n",
    "print(df.to_string())\n",
    "df.reset_index(inplace = True, drop = True)\n",
    "print(df.to_string())"
   ]
  },
  {
   "cell_type": "code",
   "execution_count": 15,
   "id": "619995fe-92ec-48bf-811f-742990f32b7f",
   "metadata": {},
   "outputs": [
    {
     "name": "stdout",
     "output_type": "stream",
     "text": [
      "       Name  Age\n",
      "0  Thanziya   20\n",
      "1    Bhavya   21\n"
     ]
    }
   ],
   "source": [
    "import pandas as pd\n",
    "details = {'Name' : ['Thanziya','Bhavya','Aryasree','Janice'],'Age' : [20,21,22,23],}\n",
    "df = pd.DataFrame(details)\n",
    "print(df[:2])"
   ]
  },
  {
   "cell_type": "code",
   "execution_count": 16,
   "id": "b56c4fb2-2253-4d51-9b46-144c95afb0f6",
   "metadata": {},
   "outputs": [
    {
     "name": "stdout",
     "output_type": "stream",
     "text": [
      "  Name Occupation  Salary\n",
      "0    a         A1      20\n",
      "1    b         A1      30\n",
      "2    c         A1      40\n",
      "3    d         B1      27\n",
      "4    e         B1      23\n",
      "Average salary per occupation : \n",
      "Occupation\n",
      "A1    30.0\n",
      "B1    25.0\n",
      "Name: Salary, dtype: float64\n"
     ]
    }
   ],
   "source": [
    "import pandas as pd\n",
    "\n",
    "details = {\n",
    "    'Name' : ['a','b','c','d','e'],\n",
    "    'Occupation' : ['A1','A1','A1','B1','B1'],\n",
    "    'Salary' : [20,30,40,27,23],\n",
    "}\n",
    "df = pd.DataFrame(details)\n",
    "print(df)\n",
    "occ_average_age = df.groupby('Occupation')['Salary'].mean()\n",
    "print(\"Average salary per occupation : \")\n",
    "print(occ_average_age)"
   ]
  },
  {
   "cell_type": "code",
   "execution_count": 17,
   "id": "218e08ea-8856-4401-ba9f-82d48bb6eaae",
   "metadata": {},
   "outputs": [
    {
     "name": "stdout",
     "output_type": "stream",
     "text": [
      "   Set_of_Numbers\n",
      "0             2.0\n",
      "1             3.0\n",
      "2             5.0\n",
      "3             7.0\n",
      "4            11.0\n",
      "5            13.0\n",
      "6             0.0\n",
      "7            19.0\n",
      "8            23.0\n",
      "9             0.0\n"
     ]
    }
   ],
   "source": [
    "import pandas as pd\n",
    "import numpy as np\n",
    "nums = {'Set_of_Numbers': [2, 3, 5, 7, 11, 13,np.nan, 19, 23, np.nan]}\n",
    "df = pd.DataFrame(nums, columns =['Set_of_Numbers'])\n",
    "df['Set_of_Numbers'] = df['Set_of_Numbers'].fillna(0)\n",
    "print(df)"
   ]
  },
  {
   "cell_type": "code",
   "execution_count": null,
   "id": "c57cd034-0a10-46fa-8855-1be77beec70f",
   "metadata": {},
   "outputs": [],
   "source": []
  }
 ],
 "metadata": {
  "kernelspec": {
   "display_name": "Python 3 (ipykernel)",
   "language": "python",
   "name": "python3"
  },
  "language_info": {
   "codemirror_mode": {
    "name": "ipython",
    "version": 3
   },
   "file_extension": ".py",
   "mimetype": "text/x-python",
   "name": "python",
   "nbconvert_exporter": "python",
   "pygments_lexer": "ipython3",
   "version": "3.10.4"
  }
 },
 "nbformat": 4,
 "nbformat_minor": 5
}
